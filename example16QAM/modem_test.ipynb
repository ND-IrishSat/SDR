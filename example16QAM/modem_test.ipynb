{
 "cells": [
  {
   "cell_type": "code",
   "execution_count": 7,
   "id": "d12ed901",
   "metadata": {},
   "outputs": [
    {
     "name": "stdout",
     "output_type": "stream",
     "text": [
      "[ 2.+1.j -2.+2.j  1.+2.j ...  1.+2.j -2.+2.j -1.+2.j]\n",
      "[[ 2. -2.  1. ...  1. -2. -1.]\n",
      " [ 1.  2.  2. ...  2.  2.  2.]]\n",
      "True\n"
     ]
    },
    {
     "data": {
      "image/png": "[encoded data removed]",
      "text/plain": [
       "<Figure size 432x288 with 1 Axes>"
      ]
     },
     "metadata": {
      "needs_background": "light"
     },
     "output_type": "display_data"
    }
   ],
   "source": [
    "# FOR TESTING STRAIGHT UP MOD/DEMOD\n",
    "#############\n",
    "# FOR INCORPORATING PULSE SHAPING\n",
    "\n",
    "import preamble_test\n",
    "import symbol_mod\n",
    "import symbol_demod\n",
    "import numpy as np\n",
    "import preamble_generator\n",
    "import data_source\n",
    "import mode_preconfiguration\n",
    "import pulse_shaping\n",
    "import matched_filtering\n",
    "import time\n",
    "import matplotlib.pyplot as plt\n",
    "\n",
    "fs = 750000.0\t       # maximum output sampling rate sustainable for pluto streaming: 2750000 (Hz), for m2k streaming: 750000 (Hz) \n",
    "Ts = 1.0 / fs          # sampling period in seconds\n",
    "f0 = 0.0               # homodyne (0 HZ IF)\n",
    "M = 6                  # oversampling factor\n",
    "T = M*Ts               # symbol period in seconds\n",
    "Rs = 1/T               # symbol rate\n",
    "segment_size = 1504    # One Transport Stream (TS) packet=188Bytes=1504 bits\n",
    "R = 5                 # Packet Ratio: number of segments contained in our larger OOK packet \n",
    "N = R*segment_size     # OOK Packet Length (equals R* segment_size)\n",
    "\n",
    "b = \"40k\"             #bandwidth of Iperf client (UDP test)\n",
    "\n",
    "test_packet_num = 20  #number of ADALM packets transmitted in Iperf test\n",
    "        \n",
    "Mode = 4\n",
    "\n",
    "serverSock, generated_sequence, sequence_counter, l = mode_preconfiguration.tx_mode_preconfig(Mode, R, segment_size, N, b, test_packet_num)\n",
    "preamble_ones_length = 380\n",
    "preamble = preamble_generator.preamble_generator(preamble_ones_length)\n",
    "#preamble = np.zeros(200)\n",
    "\n",
    "known_preamble_bits = data_source.data_source(Mode, serverSock, generated_sequence, sequence_counter, l)\n",
    "\n",
    "#############\n",
    "\n",
    "import preamble_test\n",
    "import symbol_mod\n",
    "import symbol_demod\n",
    "import numpy as np\n",
    "import preamble_generator\n",
    "import matplotlib.pyplot as plt\n",
    "\n",
    "scheme = \"QAM\"\n",
    "\n",
    "#preamble_length = 200\n",
    "\n",
    "#Generate the known copy of the preamble for packet detection\n",
    "#known_preamble_bits = preamble_test.preamble_generator()\n",
    "\n",
    "#known_preamble_bits = np.array([1,1,0,0,\n",
    "                       #1,1,0,0,\n",
    "                       #0,1,1,0,\n",
    "                       #0,1,1,0,\n",
    "                       #0,0,1,1,\n",
    "                      # 0,0,1,1,\n",
    "                      # 0,1,1,0,\n",
    "                      # 0,1,1,0,\n",
    "                       #0,1,1,0,\n",
    "                       #1,1,0,0])\n",
    "#\n",
    "#known_preamble_bits = np.rand\n",
    "\n",
    "#known_preamble_bits = preamble_generator.preamble_generator()\n",
    "#print(known_preamble_bits)\n",
    "preamble_length = 0\n",
    "\n",
    "known_preamble_symbols = symbol_mod.symbol_mod(known_preamble_bits, scheme, 0)\n",
    "#known_preamble = np.abs(pulse_shaping.pulse_shaping(known_preamble_symbols, samples_perbit, fs_in, 'rect', None, None))\n",
    "#known_preamble_ac = known_preamble - np.mean(known_preamble)\n",
    "\n",
    "print(known_preamble_symbols)\n",
    "I_symbols = np.real(known_preamble_symbols)\n",
    "Q_symbols = np.imag(known_preamble_symbols)\n",
    "\n",
    "buff = np.array([I_symbols,Q_symbols])\n",
    "print(buff)\n",
    "\n",
    "#Reverse the preamble sample sequence to obtain coefficients for the matched filter\n",
    "#matched_filter_coef = np.flip(known_preamble_symbols)\n",
    "\n",
    "#Generate demod bits\n",
    "demod_bits = symbol_demod.symbol_demod(buff, scheme, 1, preamble_length) # gain has to be set to 1\n",
    "\n",
    "#print(demod_bits)\n",
    "print(np.array_equal(known_preamble_bits, demod_bits, equal_nan=False))\n",
    "\n",
    "showplot = True\n",
    "if(showplot==True):\n",
    "        #plt.ylim((-2, 1))\n",
    "        #plt.xlim((1, 2))\n",
    "        #for i in range(len(symbols_I)):\n",
    "                #plt.plot(symbols_I[i]/channel_gain,symbols_Q[i]/channel_gain, color='blue', marker='o', markersize=1)\n",
    "                \n",
    "        plt.plot(I_symbols,Q_symbols, '.')\n",
    "        plt.show()\n"
   ]
  },
  {
   "cell_type": "code",
   "execution_count": null,
   "id": "93d880fa",
   "metadata": {},
   "outputs": [],
   "source": []
  },
  {
   "cell_type": "code",
   "execution_count": null,
   "id": "25c9e330",
   "metadata": {},
   "outputs": [],
   "source": []
  },
  {
   "cell_type": "code",
   "execution_count": null,
   "id": "b4b80f69",
   "metadata": {},
   "outputs": [],
   "source": []
  },
  {
   "cell_type": "code",
   "execution_count": null,
   "id": "2758e51b",
   "metadata": {},
   "outputs": [],
   "source": []
  }
 ],
 "metadata": {
  "kernelspec": {
   "display_name": "Python 3 (ipykernel)",
   "language": "python",
   "name": "python3"
  },
  "language_info": {
   "codemirror_mode": {
    "name": "ipython",
    "version": 3
   },
   "file_extension": ".py",
   "mimetype": "text/x-python",
   "name": "python",
   "nbconvert_exporter": "python",
   "pygments_lexer": "ipython3",
   "version": "3.9.7"
  }
 },
 "nbformat": 4,
 "nbformat_minor": 5
}
